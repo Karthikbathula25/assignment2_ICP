{
  "nbformat": 4,
  "nbformat_minor": 0,
  "metadata": {
    "colab": {
      "provenance": [],
      "authorship_tag": "ABX9TyNwEhiK5eBftNphu3GXEMtW",
      "include_colab_link": true
    },
    "kernelspec": {
      "name": "python3",
      "display_name": "Python 3"
    },
    "language_info": {
      "name": "python"
    }
  },
  "cells": [
    {
      "cell_type": "markdown",
      "metadata": {
        "id": "view-in-github",
        "colab_type": "text"
      },
      "source": [
        "<a href=\"https://colab.research.google.com/github/Karthikbathula25/assignment2_ICP/blob/main/Untitled0.ipynb\" target=\"_parent\"><img src=\"https://colab.research.google.com/assets/colab-badge.svg\" alt=\"Open In Colab\"/></a>"
      ]
    },
    {
      "cell_type": "code",
      "execution_count": 2,
      "metadata": {
        "colab": {
          "base_uri": "https://localhost:8080/"
        },
        "id": "BfgnH5QL334t",
        "outputId": "43cf89d2-5e8c-4083-992e-4e6017edcf49"
      },
      "outputs": [
        {
          "output_type": "stream",
          "name": "stdout",
          "text": [
            "Enter your first name: karthik\n",
            "Enter your last name: bathula\n",
            "your full_name is :  karthik bathula\n",
            "your alternative string is:  krhkbtua\n"
          ]
        }
      ],
      "source": [
        "first_name = input(\"Enter your first name: \")\n",
        "last_name = input(\"Enter your last name: \")\n",
        "def fullname(first_name, last_name):\n",
        "    global full_name\n",
        "    full_name = first_name + \" \" + last_name\n",
        "    print(\"your full_name is : \", full_name)\n",
        "fullname(first_name, last_name)\n",
        "def string_alternative(full_name):\n",
        "    print(\"your alternative string is: \", full_name[::2])\n",
        "string_alternative(full_name)"
      ]
    },
    {
      "cell_type": "code",
      "source": [
        "def word_count(str):\n",
        "    counts = dict()\n",
        "    words = str.split()\n",
        "\n",
        "    for word in words:\n",
        "        if word in counts:\n",
        "            counts[word] += 1\n",
        "        else:\n",
        "            counts[word] = 1\n",
        "\n",
        "    return counts\n",
        "with open('sample.txt', 'r') as file1:\n",
        "  FileContent = file1.read()\n",
        "  print(word_count(FileContent))"
      ],
      "metadata": {
        "colab": {
          "base_uri": "https://localhost:8080/"
        },
        "id": "eMlydlk64dxG",
        "outputId": "07b06eec-3522-4eac-980e-6901dea27c12"
      },
      "execution_count": 4,
      "outputs": [
        {
          "output_type": "stream",
          "name": "stdout",
          "text": [
            "{'Python': 2, 'Course': 4, 'Deep': 2, 'Learning': 2, 'count': 1, ':': 1, '1': 5}\n"
          ]
        }
      ]
    },
    {
      "cell_type": "code",
      "source": [
        "import numpy as np\n",
        "mylst = []\n",
        "\n",
        "# number of elements as input\n",
        "n = int(input(\"Enter number of elements : \"))\n",
        "\n",
        "# iterating till the range\n",
        "for i in range(0, n):\n",
        "    ele = int(input())\n",
        "\n",
        "    mylst.append(ele) # adding the element\n",
        "\n",
        "print(mylst)\n",
        "lyst = mylst\n",
        "result = 2.54\n",
        "for x in lyst:\n",
        " h_cm = np.array(lyst) * result\n",
        " new_list = list(h_cm)\n",
        "print(new_list)"
      ],
      "metadata": {
        "colab": {
          "base_uri": "https://localhost:8080/"
        },
        "id": "rznIIN3G4wwk",
        "outputId": "c5a72ccb-c88f-4f46-e172-06797d46beff"
      },
      "execution_count": 5,
      "outputs": [
        {
          "output_type": "stream",
          "name": "stdout",
          "text": [
            "Enter number of elements : 4\n",
            "140\n",
            "155\n",
            "156\n",
            "157\n",
            "[140, 155, 156, 157]\n",
            "[355.6, 393.7, 396.24, 398.78000000000003]\n"
          ]
        }
      ]
    }
  ]
}